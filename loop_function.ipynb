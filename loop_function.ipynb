{
 "cells": [
  {
   "cell_type": "code",
   "execution_count": 9,
   "id": "7fa6dab1-288c-4e9d-a239-9ec9fae49a9c",
   "metadata": {},
   "outputs": [],
   "source": [
    "L=list(range(1,20))"
   ]
  },
  {
   "cell_type": "code",
   "execution_count": 10,
   "id": "ad39f641-3309-4edd-811f-637a3555aff6",
   "metadata": {},
   "outputs": [
    {
     "name": "stdout",
     "output_type": "stream",
     "text": [
      "1 <class 'int'>\n",
      "2 <class 'int'>\n",
      "3 <class 'int'>\n",
      "4 <class 'int'>\n",
      "5 <class 'int'>\n",
      "6 <class 'int'>\n",
      "7 <class 'int'>\n",
      "8 <class 'int'>\n",
      "9 <class 'int'>\n",
      "10 <class 'int'>\n",
      "11 <class 'int'>\n",
      "12 <class 'int'>\n",
      "13 <class 'int'>\n",
      "14 <class 'int'>\n",
      "15 <class 'int'>\n",
      "16 <class 'int'>\n",
      "17 <class 'int'>\n",
      "18 <class 'int'>\n",
      "19 <class 'int'>\n"
     ]
    }
   ],
   "source": [
    "for i in L:\n",
    "    print(i,type(i))"
   ]
  },
  {
   "cell_type": "code",
   "execution_count": 11,
   "id": "be6cbf41-c10f-440e-9557-ec4bb122f449",
   "metadata": {},
   "outputs": [],
   "source": [
    "L1=[]\n",
    "for i in L:\n",
    "    if i == 15:\n",
    "        break\n",
    "    L1.append(i*5)"
   ]
  },
  {
   "cell_type": "code",
   "execution_count": 12,
   "id": "2bbeab27-baf2-454e-9e41-ced6dc10e617",
   "metadata": {},
   "outputs": [
    {
     "data": {
      "text/plain": [
       "[5, 10, 15, 20, 25, 30, 35, 40, 45, 50, 55, 60, 65, 70]"
      ]
     },
     "execution_count": 12,
     "metadata": {},
     "output_type": "execute_result"
    }
   ],
   "source": [
    "L1"
   ]
  },
  {
   "cell_type": "code",
   "execution_count": 13,
   "id": "7795e6cf-d000-48fd-a303-3b38a1ca946d",
   "metadata": {},
   "outputs": [],
   "source": [
    "L2=[]\n",
    "for i in L:\n",
    "    if i == 10:\n",
    "        continue\n",
    "    L2.append(i*10)"
   ]
  },
  {
   "cell_type": "code",
   "execution_count": 14,
   "id": "904fea8f-2f2a-47c6-b8b9-4c161a0927f2",
   "metadata": {},
   "outputs": [
    {
     "data": {
      "text/plain": [
       "[10,\n",
       " 20,\n",
       " 30,\n",
       " 40,\n",
       " 50,\n",
       " 60,\n",
       " 70,\n",
       " 80,\n",
       " 90,\n",
       " 110,\n",
       " 120,\n",
       " 130,\n",
       " 140,\n",
       " 150,\n",
       " 160,\n",
       " 170,\n",
       " 180,\n",
       " 190]"
      ]
     },
     "execution_count": 14,
     "metadata": {},
     "output_type": "execute_result"
    }
   ],
   "source": [
    "L2"
   ]
  },
  {
   "cell_type": "code",
   "execution_count": 15,
   "id": "f143d62d-6012-4d3e-8687-107f2d7a2f04",
   "metadata": {},
   "outputs": [],
   "source": [
    "U={\"NAME\":\"SUDHIR\",\"ROLL_NO\":11,\"TEACHER\":\"SRINIVASAN\",\"CLASS\":\"M.B.A\"}"
   ]
  },
  {
   "cell_type": "code",
   "execution_count": 16,
   "id": "7d011e1a-5c54-43e6-8ba9-d672246535a0",
   "metadata": {},
   "outputs": [
    {
     "name": "stdout",
     "output_type": "stream",
     "text": [
      "SUDHIR\n",
      "11\n",
      "SRINIVASAN\n",
      "M.B.A\n"
     ]
    }
   ],
   "source": [
    "for i in U.keys():\n",
    "    print(U[i])"
   ]
  },
  {
   "cell_type": "code",
   "execution_count": 18,
   "id": "1de9db57-d186-4bf0-a682-bd5a659b06b3",
   "metadata": {},
   "outputs": [
    {
     "name": "stdout",
     "output_type": "stream",
     "text": [
      "SUDHIR\n",
      "11\n",
      "SRINIVASAN\n",
      "M.B.A\n"
     ]
    }
   ],
   "source": [
    "for i in U.values():\n",
    "    print(i)"
   ]
  },
  {
   "cell_type": "code",
   "execution_count": 19,
   "id": "6999748a-661f-477d-b340-f4b42fd7e4ab",
   "metadata": {},
   "outputs": [],
   "source": [
    "U1=[]\n",
    "for i in U.keys():\n",
    "    U1.append(i)"
   ]
  },
  {
   "cell_type": "code",
   "execution_count": 20,
   "id": "d48f5dc3-92ce-4749-82dd-0685cfad5ffe",
   "metadata": {},
   "outputs": [
    {
     "data": {
      "text/plain": [
       "['NAME', 'ROLL_NO', 'TEACHER', 'CLASS']"
      ]
     },
     "execution_count": 20,
     "metadata": {},
     "output_type": "execute_result"
    }
   ],
   "source": [
    "U1"
   ]
  },
  {
   "cell_type": "code",
   "execution_count": 21,
   "id": "5382282e-9a6f-4d13-b638-cbd3f15f5f5e",
   "metadata": {},
   "outputs": [
    {
     "data": {
      "text/plain": [
       "[('NAME', 'SUDHIR'),\n",
       " ('ROLL_NO', 11),\n",
       " ('TEACHER', 'SRINIVASAN'),\n",
       " ('CLASS', 'M.B.A')]"
      ]
     },
     "execution_count": 21,
     "metadata": {},
     "output_type": "execute_result"
    }
   ],
   "source": [
    "U2=[]\n",
    "for i in U.items():\n",
    "    U2.append(i)\n",
    "U2"
   ]
  },
  {
   "cell_type": "code",
   "execution_count": 22,
   "id": "2bb51776-1194-4bd5-aab2-543e478a2a13",
   "metadata": {},
   "outputs": [],
   "source": [
    "U3=[]\n",
    "for i in U.values():\n",
    "    U3.append(i)"
   ]
  },
  {
   "cell_type": "code",
   "execution_count": 23,
   "id": "98b39d9d-4595-4584-b31b-736befa5a3ef",
   "metadata": {},
   "outputs": [
    {
     "data": {
      "text/plain": [
       "['SUDHIR', 11, 'SRINIVASAN', 'M.B.A']"
      ]
     },
     "execution_count": 23,
     "metadata": {},
     "output_type": "execute_result"
    }
   ],
   "source": [
    "U3"
   ]
  },
  {
   "cell_type": "code",
   "execution_count": 25,
   "id": "65a24d1b-674a-4e7e-a9e0-d0c88af03dbc",
   "metadata": {},
   "outputs": [
    {
     "data": {
      "text/plain": [
       "(['NAME', 'ROLL_NO', 'TEACHER', 'CLASS'],\n",
       " ['SUDHIR', 11, 'SRINIVASAN', 'M.B.A'])"
      ]
     },
     "execution_count": 25,
     "metadata": {},
     "output_type": "execute_result"
    }
   ],
   "source": [
    "U1,U3"
   ]
  },
  {
   "cell_type": "code",
   "execution_count": 26,
   "id": "e45386ec-d4d7-4e72-bda5-40e2b608fdba",
   "metadata": {},
   "outputs": [],
   "source": [
    "o=[]\n",
    "for i in U.keys():\n",
    "    if i == 'TEACHER':\n",
    "        break\n",
    "    o.append(i)"
   ]
  },
  {
   "cell_type": "code",
   "execution_count": 27,
   "id": "d796ea61-7f3c-496d-9ec5-6f084d9809ae",
   "metadata": {},
   "outputs": [
    {
     "data": {
      "text/plain": [
       "['NAME', 'ROLL_NO']"
      ]
     },
     "execution_count": 27,
     "metadata": {},
     "output_type": "execute_result"
    }
   ],
   "source": [
    "o"
   ]
  },
  {
   "cell_type": "code",
   "execution_count": 28,
   "id": "e082dff8-5907-4e9f-a837-ffa67b0e0249",
   "metadata": {},
   "outputs": [],
   "source": [
    "o1=[]\n",
    "for i in U.items():\n",
    "    if i == 'SRINIVASAN':\n",
    "        continue\n",
    "    o1.append(i)"
   ]
  },
  {
   "cell_type": "code",
   "execution_count": 29,
   "id": "dad72e91-b5e7-4252-9c40-00b8b3d76358",
   "metadata": {},
   "outputs": [
    {
     "data": {
      "text/plain": [
       "[('NAME', 'SUDHIR'),\n",
       " ('ROLL_NO', 11),\n",
       " ('TEACHER', 'SRINIVASAN'),\n",
       " ('CLASS', 'M.B.A')]"
      ]
     },
     "execution_count": 29,
     "metadata": {},
     "output_type": "execute_result"
    }
   ],
   "source": [
    "o1"
   ]
  },
  {
   "cell_type": "code",
   "execution_count": 30,
   "id": "05475e85-49ee-4b5e-954e-b07e5759821f",
   "metadata": {},
   "outputs": [
    {
     "data": {
      "text/plain": [
       "[('NAME', 'SUDHIR'),\n",
       " ('ROLL_NO', 11),\n",
       " ('TEACHER', 'SRINIVASAN'),\n",
       " ('CLASS', 'M.B.A')]"
      ]
     },
     "execution_count": 30,
     "metadata": {},
     "output_type": "execute_result"
    }
   ],
   "source": [
    "o2=[]\n",
    "for i in U.items():\n",
    "    if i == 'CLASS':\n",
    "        break\n",
    "    o2.append(i)\n",
    "o2"
   ]
  },
  {
   "cell_type": "code",
   "execution_count": null,
   "id": "2aa4d8a7-1b2b-40db-be8c-e0f0c283368d",
   "metadata": {},
   "outputs": [],
   "source": []
  }
 ],
 "metadata": {
  "kernelspec": {
   "display_name": "Python 3 (ipykernel)",
   "language": "python",
   "name": "python3"
  },
  "language_info": {
   "codemirror_mode": {
    "name": "ipython",
    "version": 3
   },
   "file_extension": ".py",
   "mimetype": "text/x-python",
   "name": "python",
   "nbconvert_exporter": "python",
   "pygments_lexer": "ipython3",
   "version": "3.10.8"
  }
 },
 "nbformat": 4,
 "nbformat_minor": 5
}
